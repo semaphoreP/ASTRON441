{
 "cells": [
  {
   "cell_type": "markdown",
   "metadata": {},
   "source": [
    "# Python Features\n",
    "\n",
    "The goal of this notebook is to demonstrate and understand when to use some useful Python features. This notebook is borrowed from [a similar notebook from Code/Astro](https://colab.research.google.com/drive/1ZctFSkoE0uorM13Js-Djco09ve_7LOEh?usp=sharing).\n",
    "\n",
    "## conda Install Clarification\n",
    "\n",
    "Each conda environment is totally separate from each other conda environment. This means you need to reinstall even basic things like pip, jupyter, numpy, etc. You can do it like:\n",
    "\n",
    "```\n",
    " > (astron441) > conda install pip jupyter numpy scipy matplotlib\n",
    "```\n",
    "\n",
    "## Types\n",
    "\n",
    "Python is an object-oriented language, meaning that *everything* (even basic types like `int`s and `str`s) are represented as objects (more details coming up). Here are some built-in types:\n",
    "\n",
    "- `int`: integers (no decimals). Example: 345\n",
    "- `str`: series of characters (words). Example: \"Hello World\"\n",
    "- `float`: numeric value with decimals. Example: 1.234, 1e-234, 1.0\n",
    "- `bool`: True or False. Example: True\n",
    "- `list`: a series of items linked together. Example: [1, \"Hello\", 2, 3.4]\n",
    "- `tuple`: lists that cannot be changed. Example: (1, \"Hello\", 2, 3.4)\n",
    "- `dict`: a series of key->value mappings. Example: {1: \"Hi\", \"test\": 2.3, 3: \"World\"}"
   ]
  },
  {
   "cell_type": "code",
   "execution_count": null,
   "metadata": {},
   "outputs": [],
   "source": [
    "a = 1 # int\n",
    "b = \"Hello World\" # str\n",
    "c = 2.3 # float\n",
    "d = True # bool\n",
    "e = [1, 2.3] # list\n",
    "f = (1, 2.3) # tuple\n",
    "g = {2: True, \"Yes\" : 3.14}"
   ]
  },
  {
   "cell_type": "code",
   "execution_count": null,
   "metadata": {},
   "outputs": [],
   "source": [
    "type(a)"
   ]
  },
  {
   "cell_type": "markdown",
   "metadata": {},
   "source": [
    "### Edge Cases\n",
    "\n",
    "What are the types of the following:\n",
    " * a = 1e4\n",
    " * b = 6 + 1.2\n",
    " * c = 6 / 2\n",
    " * d = 6 // 2"
   ]
  },
  {
   "cell_type": "code",
   "execution_count": null,
   "metadata": {},
   "outputs": [],
   "source": [
    "a = 1e4\n",
    "type(a)"
   ]
  },
  {
   "cell_type": "markdown",
   "metadata": {},
   "source": [
    "## Pass by Value vs Pass by Reference\n",
    "\n",
    "How types get assigned to variables differs. This is an edge case of Python programming that can create unindenteded behavior sometimes, so it is useful to know this exists. \n",
    "\n",
    "### Primitive Types: Pass by Value\n",
    "\n",
    "Generally, primitive data types (e.g., int, float, str) are \"pass by value\". What this means is that the variable you assign a primitive type stores the value. The implication is that if you set one variable equation to another, it makes a *copy* of the value to store in the second variable. I generally find this to be the more intuitive behavior."
   ]
  },
  {
   "cell_type": "code",
   "execution_count": null,
   "metadata": {},
   "outputs": [],
   "source": [
    "# integer example\n",
    "a = 1\n",
    "b = a\n",
    "a = 2\n",
    "print(a, b)\n",
    "# string example\n",
    "a = \"Hello\"\n",
    "b = a\n",
    "a = \"World\"\n",
    "print(a, b)"
   ]
  },
  {
   "cell_type": "markdown",
   "metadata": {},
   "source": [
    "### Non-Primitive Types: Pass by Reference\n",
    "\n",
    "Non-primitive types (e.g., list, array) represent more than a single quanta of data. These types are \"pass by reference\". What this means is that variables are pointers to a piece of data. More than one variable can point to a piece of data. If no variables point to some data, that data is abandoned and the Python \"garbage collector\" will delete it. \n",
    "\n",
    "Here's a schematic with a list.\n",
    "```\n",
    "> a = [1,2,3]\n",
    "```\n",
    "$ a \\rightarrow [1,2,3] $\n",
    "```\n",
    "> b = a\n",
    "```\n",
    "$ a \\rightarrow [1,2,3] \\leftarrow b $\n",
    "```\n",
    "> a = [1,2,3]\n",
    "```\n",
    "$ [1,2,3] \\leftarrow b\\\\ a \\rightarrow [1,2,3] $\n",
    "\n",
    "This also has implications with changes propogating from one variable to the next"
   ]
  },
  {
   "cell_type": "code",
   "execution_count": null,
   "metadata": {},
   "outputs": [],
   "source": [
    "# list example\n",
    "# integer example\n",
    "a = [1,2,3]\n",
    "b = a\n",
    "a[0] = -1\n",
    "print(a, b)\n",
    "# list with copies\n",
    "a = [1,2,3]\n",
    "b = a.copy()\n",
    "a[0] = -1\n",
    "print(a, b)"
   ]
  },
  {
   "cell_type": "code",
   "execution_count": null,
   "metadata": {},
   "outputs": [],
   "source": [
    "a = [1,2,3]\n",
    "b = a\n",
    "index = 1\n",
    "\n",
    "def negate_element(input_list, ele_index):\n",
    "    \"\"\"\n",
    "    This function negates the value in list `input_list` at index `ele_index`\n",
    "    Assumes the list is long enough and is made out of values that can be negated.\n",
    "\n",
    "    Returns the negated value and the negated index.\n",
    "    \"\"\"\n",
    "    input_list[ele_index] *= -1 # shorthand for input_list[ele_index] = -1 * input_list[ele_index]\n",
    "    new_value = input_list[ele_index]\n",
    "    ele_index *= -1\n",
    "\n",
    "    return new_value, ele_index\n",
    "\n",
    "neg_val, neg_index = negate_element(a, index)\n",
    "\n",
    "# what are the values of neg_value, meg_index, a, b, index?\n",
    "# you can run this block of code to check. "
   ]
  },
  {
   "cell_type": "markdown",
   "metadata": {},
   "source": [
    "# String Formatting\n",
    "\n",
    "It is convenient to be able to insert values such as numbers into strings for printing/saving/general utility. There are many ways to do this, but here is what I find convenient. "
   ]
  },
  {
   "cell_type": "code",
   "execution_count": null,
   "metadata": {},
   "outputs": [],
   "source": [
    "a = [1,2,3]\n",
    "b = 1.23535\n",
    "\n",
    "print(\"The first two elements of a are {0} and {1}\".format(a[0], a[1]))\n",
    "print(\"The first two elements of a are {blah} and {stuff}\".format(blah=a[0], stuff=a[1]))\n",
    "print(\"Value of b is {0}\".format(b))\n",
    "print(\"Value of b is {0:.2f}\".format(b))\n",
    "print(\"Value of b is {0:.2e}\".format(b))"
   ]
  },
  {
   "cell_type": "markdown",
   "metadata": {},
   "source": [
    "# Iterating Over Sequences\n",
    "\n",
    "There are a seemingly endless number of ways to loop through a sequence in Python. Here are a few different ways I typically like to do things. Are there others you prefer?"
   ]
  },
  {
   "cell_type": "code",
   "execution_count": null,
   "metadata": {},
   "outputs": [],
   "source": [
    "a = [1,2,3]\n",
    "\n",
    "print(\"simpliest: use the list itself\")\n",
    "for ele in a:\n",
    "    print(ele)\n",
    "\n",
    "print(\"loop through indices with the range iterator\")\n",
    "for i in range(len(a)):\n",
    "    print(a[i])\n",
    "\n",
    "print(\"loop using the enumerate iterator\")\n",
    "for i, ele in enumerate(a):\n",
    "    print(i, ele)\n",
    "\n",
    "print(\"loop through two lists with zip\")\n",
    "b = a.copy()\n",
    "for a_ele, b_ele in zip(a, b):\n",
    "    print(a_ele, b_ele)\n",
    "\n",
    "print(\"while loops are sometimes simpler but you need to be careful to make sure it is not an infinite loop\")\n",
    "print(a[0])\n",
    "while a[0] < 10:\n",
    "    a[0] += 1\n",
    "print(a[0])"
   ]
  },
  {
   "cell_type": "markdown",
   "metadata": {},
   "source": [
    "# Functions\n",
    "\n",
    "Functions are great for putting repeated code into a structure. If you find yourself copying and pasting code multiple times to do a task, you may consider generalizing it into a function. \n",
    "\n",
    "A few things to pay attention to in functions:\n",
    " * arguments are required inputs into functions that you must specify\n",
    " * keyword argumnets are optional inputs that, if you do not specify, it will use the default value\n",
    " * variables defined in functions only live in the scope of a function. It cannot be accessed outside (there are ways, but generally don't)\n"
   ]
  },
  {
   "cell_type": "code",
   "execution_count": null,
   "metadata": {},
   "outputs": [],
   "source": [
    "a = [1,2,3]\n",
    "\n",
    "def example_function(arg1, arg2, kwarg1=True, kwarg2=\"Hello\"):\n",
    "    \"\"\"\n",
    "    Documentation for my function\n",
    "\n",
    "    Args:\n",
    "        arg1: some descriptions...\n",
    "        arg2\n",
    "        kwarg1\n",
    "        kwarg2\n",
    "\n",
    "    Returns\n",
    "        string: some descriptions\n",
    "    \"\"\"\n",
    "\n",
    "    if kwarg1:\n",
    "        a = \"Calculations Correct\"\n",
    "        print(a, arg1, arg2)\n",
    "    else:\n",
    "        print(kwarg2)\n",
    "\n",
    "\n",
    "print(a)\n",
    "example_function(\"a\", \"b\")\n",
    "example_function(\"a\", \"b\", kwarg1=False)\n",
    "print(a)\n"
   ]
  },
  {
   "cell_type": "markdown",
   "metadata": {},
   "source": [
    "# Classes\n",
    "\n",
    "Classes are a popular paradigm in programming. It allows for organizing a series of related information into a structure, and it allows for multiple instances (objects) that all follow the same structure. \n",
    "\n",
    "## Actvitiy\n",
    "\n",
    " * Finish the following free fall gravity simulator. Use your simulation to determine how long it takes for a particle to fall to the ground from a height of 10 meters. \n",
    " * Bonus activity: In the future, we want particles that experience other forces and move in 3D. Write a Particle superclass that the FreeFallParticle is a subclass of. What fields go into the Particle class?\n",
    "\n",
    "### Instructions\n",
    " * Read through the current code and think what needs to be done to complete the main goal (how long it takes for a particle to fall from 10 m)\n",
    "    * Hint: we provided some psuedocode to perform the the physics equations to simulate gravity at each timestep. Use those to modify the state of the particle by each time step.\n",
    "    * Hint: you may consider calling simulate_timestep() in a for-loop to figure out when the ball drops to 0 meters.\n",
    " * Code it up!\n",
    " * If you have time, work on the bonus activity\n",
    " * At the end, find a partner and share your solutions. What was similar and what was different\n",
    "\n"
   ]
  },
  {
   "cell_type": "code",
   "execution_count": null,
   "metadata": {},
   "outputs": [],
   "source": [
    "class Particle(object):\n",
    "    \"\"\"\n",
    "    A simulated particle that moves in 3D\n",
    "\n",
    "    TODO: this is just a place holder for now. We need to figure out what fields go in here. \n",
    "    \"\"\"\n",
    "    def __init__(self):\n",
    "        pass\n",
    "\n",
    "\n",
    "class FreeFallParticle(Particle):\n",
    "    \"\"\"\n",
    "    Simulate a particle falling due to Earth's gravity. Particle is stationary at first\n",
    "\n",
    "    Args:\n",
    "        height (float): a height in meters\n",
    "        dt (float): timestep of the simulation in seconds\n",
    "    \"\"\"\n",
    "    def __init__(self, height, dt=0.1):\n",
    "        \"\"\"\n",
    "        Function that is run to initialize the class.\n",
    "\n",
    "        The input `self` is required for functions that belong to an object,\n",
    "        meaning that you want to make the function access and/or depend on the \n",
    "        attributes of the object (e.g., self.time, and self.velocity below)\n",
    "        \"\"\"\n",
    "        # let's initalize it's parent class (empty for now because it is a blank class)\n",
    "        super().__init__()\n",
    "\n",
    "        # note that we are not using the astropy.units class here as we haven't talked about it yet! But it could be useful!\n",
    "        self.height = height # current height [meters]\n",
    "        self.velocity = 0 # current velocity [meters/second]\n",
    "        self.time = 0 # time elapsed [seconds]\n",
    "        self.dt = dt # timestep of the simulation [seconds]\n",
    "        self.g = -9.8 # gravitational acceleration (Don't change) [meters/second^2]\n",
    "\n",
    "\n",
    "    def get_num_steps_run(self):\n",
    "        \"\"\"\n",
    "        Function that returns the number of timesteps that have run by comparing self.time with self.dt\n",
    "\n",
    "        Returns:\n",
    "            num_steps (int): number of time steps already completed in the simulation\n",
    "        \"\"\"\n",
    "        num_steps = int(self.time / self.dt)\n",
    "        return num_steps\n",
    "\n",
    "    ##### Activity ######\n",
    "    \"\"\"\n",
    "    Add functionality to advance the particle's height by one time step at a time. (hint: implement the function below).\n",
    "    Then use this code to calculate how long it takes for the particle to fall down from a height of 10 meters.\n",
    "\n",
    "    Some useful equations for how to calculate the particle's new state at the next time step.\n",
    "    Pseudo code below:\n",
    "    acceleration = g\n",
    "    new_velocity = current_velocity + acceleration * dt\n",
    "    new_height = current_height + new_velocity * dt\n",
    "\n",
    "    Add inputs and outputs. \n",
    "    \"\"\"\n",
    "    def simulate_timestep(self):\n",
    "        \"\"\"\n",
    "        Advance the simulation time by a single timestep (self.dt). \n",
    "        Update the simulation with the new time, height, and velocity\n",
    "\n",
    "        Returns:\n",
    "            height (float): the current height in meters\n",
    "        \"\"\"\n",
    "        return 0. # currently does nothing"
   ]
  },
  {
   "cell_type": "code",
   "execution_count": null,
   "metadata": {},
   "outputs": [],
   "source": [
    "# Here's how you could call this function\n",
    "ball = FreeFallParticle(10) # start out a 10 m above the ground\n",
    "print(ball.time, ball.height)\n",
    "ball.simulate_timestep()\n",
    "print(ball.time, ball.height) # time should move forward by 0.1 seconds\n",
    "# write more code so ball falls down to the ground"
   ]
  },
  {
   "cell_type": "code",
   "execution_count": null,
   "metadata": {},
   "outputs": [],
   "source": []
  }
 ],
 "metadata": {
  "kernelspec": {
   "display_name": "Python 3.9.5 ('codeastro')",
   "language": "python",
   "name": "python3"
  },
  "language_info": {
   "codemirror_mode": {
    "name": "ipython",
    "version": 3
   },
   "file_extension": ".py",
   "mimetype": "text/x-python",
   "name": "python",
   "nbconvert_exporter": "python",
   "pygments_lexer": "ipython3",
   "version": "3.9.5"
  },
  "orig_nbformat": 4,
  "vscode": {
   "interpreter": {
    "hash": "70da8eaca2f829bebd9ae4bfee73e2015b5a57abadfaaa95753587bc60143f91"
   }
  }
 },
 "nbformat": 4,
 "nbformat_minor": 2
}
