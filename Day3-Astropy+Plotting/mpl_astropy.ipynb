{
 "cells": [
  {
   "cell_type": "markdown",
   "metadata": {},
   "source": [
    "# Harnessing Matplotlib & Astropy\n",
    "\n",
    "Based off Notebook by Sarah Blunt"
   ]
  },
  {
   "cell_type": "markdown",
   "metadata": {},
   "source": [
    "## Matplotlib.pyplot\n",
    "\n",
    "`matplotlib` is a powerful graphics module often used by Python developers. I like to look at the matplotlib gallery to get a grasp for what is possible: https://matplotlib.org/stable/gallery/index.html. \n",
    "\n",
    "Goals of this tutorial:\n",
    "  * Demonstrate some nice features of matplotlib for plotting\n",
    "  * Understand the principles behind using the `matplotlib.pylab` environment\n",
    "\n",
    "There are other (excellent) plotting tools in common practice in astronomy, especially plotly and bokeh. We encourage you to look into these tools as well, but we'll only discuss `matplotlib.pyplot` here."
   ]
  },
  {
   "cell_type": "markdown",
   "metadata": {},
   "source": [
    "## The `pyplot` environment\n",
    "\n",
    "`matplotlib.pyplot` relies on the concept of **changing state**. The **state** of a programming environment is what determines the program's behavior. For example, when you type:\n",
    "\n",
    "``` >> import  matplotlib.pyplot as plt```\n",
    "\n",
    "you have loaded in a set of default matplotlib settings (which can be changed). These settings are in the `matplotlib.rcParams` object, which is like a dictionary that controls the default behaviors of matplotlib plots. When you type:\n",
    "\n",
    "```>> import matplotlib```\n",
    "\n",
    "the `matplotlib.rcParams` object is automatically defined and given some default values. This is how, for example, matplotlib knows how large to make fonts and what colors to draw lines. It also means that you can control the default behavior of matplotlib plots by updating state via `matplotlib.rcParams`.\n",
    "\n",
    "Let's see an example. We'll start by using the `update()` method of `matplotlib.rcParams` to change the default font size:\n"
   ]
  },
  {
   "cell_type": "code",
   "execution_count": null,
   "metadata": {},
   "outputs": [],
   "source": [
    "# allows us to display matplotlib figures as images in Jupyter\n",
    "%matplotlib inline \n",
    "\n",
    "from matplotlib import rcParams\n",
    "import matplotlib.pyplot as plt\n",
    "\n",
    "# make a plot\n",
    "plt.figure()\n",
    "plt.title('The default font size is {}.'.format(rcParams['font.size']))\n",
    "plt.xlabel('foo')\n",
    "plt.ylabel('bar')\n",
    "\n",
    "# update the current state. This command doesn't have any output! It just affects\n",
    "#   the state of the environment.\n",
    "old_default = rcParams['font.size']\n",
    "rcParams.update({'font.size': 22})\n",
    "\n",
    "# make another plot\n",
    "plt.figure()\n",
    "plt.title('Now, the default font size is {}.'.format(rcParams['font.size']))\n",
    "plt.xlabel('foo')\n",
    "plt.ylabel('bar', fontsize=10) # override default\n",
    "\n",
    "# reset to old default\n",
    "rcParams.update({'font.size': old_default})"
   ]
  },
  {
   "cell_type": "markdown",
   "metadata": {},
   "source": [
    "### Figures\n",
    "\n",
    "The basic \"unit\" of `matplotlib.pyplot` is [the `Figure` object](https://matplotlib.org/stable/api/_as_gen/matplotlib.pyplot.figure.html), which acts as a container for all the other plot elements. Let's look at a few different ways to create a `Figure` object:"
   ]
  },
  {
   "cell_type": "code",
   "execution_count": null,
   "metadata": {},
   "outputs": [],
   "source": [
    "import numpy as np\n",
    "\n",
    "# create some sample data\n",
    "x = np.array([1, 2, 3, 4])\n",
    "y = np.array([1, 4, 9, 16])\n",
    "y_error = np.array([5, 1.2, 2, 5])\n",
    "\n",
    "fig = plt.figure() # initializes a `Figure` object\n",
    "plt.errorbar(      # plots data points and error bars onto the current `Figure`\n",
    "    x, y, yerr=y_error, ls='', fmt=\"*\"  # ls='' sets \"no line\" as the line style\n",
    "                                   # fmt=\"*\" sets stars as the data marker\n",
    ")  \n",
    "\n",
    "print(type(fig))"
   ]
  },
  {
   "cell_type": "markdown",
   "metadata": {},
   "source": [
    "Note that the current figure changes (i.e. the *state* is updated) when you initialize a new `Figure` object. Unless you specify a particular `Figure` object, `plt.___()` functions will always add to the current `Figure` object. That is a nice feature-- it makes it easy to add multiple types of plots onto the same figure. But you should be mindful of what is the current figure.\n",
    "\n",
    "Let's look at another way to initialize a new `Figure` object:"
   ]
  },
  {
   "cell_type": "code",
   "execution_count": null,
   "metadata": {},
   "outputs": [],
   "source": [
    "fig, axes = plt.subplots(nrows=1, ncols=2, figsize=(10, 5))\n",
    "\n",
    "axes[0].plot(x, y, color='grey')\n",
    "# plt.xlabel(\"x-axis\") # if I uncomment this line, which axis do I write to?\n",
    "axes[1].plot(x, y, color='red')\n",
    "axes[1].set_yscale('log')\n",
    "# plt.xlabel(\"y-axis\") # if I uncomment this line, which axis do I write to?\n",
    "\n",
    "print('fig type: {}'.format(type(fig)))\n",
    "print('axes type: {}'.format(type(axes)))\n",
    "print('axes[0] type: {}'.format(type(axes[0])))"
   ]
  },
  {
   "cell_type": "markdown",
   "metadata": {},
   "source": [
    "Here we've encountered another kind of object: [the `Axes` object](https://matplotlib.org/api/axes_api.html#matplotlib.axes.Axes). These objects are containers for all the plot elements *in a particular figure panel*. Each figure can contain multiple `Axes` (or just one for a single plot)."
   ]
  },
  {
   "cell_type": "markdown",
   "metadata": {},
   "source": [
    "Two useful methods to keep in mind are `plt.gca()` and `plt.sca()` (get/set current `Axes`). Let's see how they work:"
   ]
  },
  {
   "cell_type": "code",
   "execution_count": null,
   "metadata": {},
   "outputs": [],
   "source": [
    "fig, ax = plt.subplots(nrows=2, ncols=2)\n",
    "\n",
    "mystery_axes = plt.gca()              # get current Axes\n",
    "mystery_axes.scatter(x, y, color='r', label='he')# acts on `mystery_axes`\n",
    "mystery_axes.scatter(x + 1, y + 1, color='k', label='llo')\n",
    "mystery_axes.legend()\n",
    "\n",
    "plt.sca(ax[0,0])        # set current Axes\n",
    "plt.plot(x, y, ls='-.') # acts on current Axes\n",
    "plt.tight_layout()      # prettify"
   ]
  },
  {
   "cell_type": "markdown",
   "metadata": {},
   "source": [
    "## Some features for making readable plots\n",
    "\n",
    "### Tweaking individual font sizes\n",
    "\n",
    "For different sized figures, I prefer different fontsizes. For papers, I aim to have my figure fontsizes to be comparable to the text fontsize."
   ]
  },
  {
   "cell_type": "code",
   "execution_count": null,
   "metadata": {},
   "outputs": [],
   "source": [
    "fig, ax = plt.subplots(1, 1, figsize=(7,3)) # specify a figure size\n",
    "ax.set_title('The default font size is {}.'.format(rcParams['font.size']), fontsize=14)\n",
    "ax.set_xlabel('Foo', fontsize=14)\n",
    "ax.set_ylabel('Bar', fontsize=14)\n",
    "ax.tick_params(labelsize=11)\n"
   ]
  },
  {
   "cell_type": "markdown",
   "metadata": {},
   "source": [
    "### Controlling colors and labeling\n",
    "\n",
    "There are many ways to specify colors in matplotlib\n",
    "  * Use the default color cycle by not specifying anything in the colors\n",
    "  * Specify colors from the color cycle\n",
    "  * Use words (mainly those supported by HTML) for colors\n",
    "  * Specific values from built-in matplotlib colormaps\n",
    "  * Most custom: use Hex codes (or RGB tuples) to specify a color\n",
    "\n",
    "Jason's preference: I like to either pick colors from the HTML supported table or pick a matplotlib colormap I like and use a few values from one colormap.\n",
    "\n",
    "For labeling, using the `label` keyword, which is accessible through any plotting function (`plot`, `scatter`, `errorbar`, etc), and the `legend()` function is the easiest way to label plots in matplotlib."
   ]
  },
  {
   "cell_type": "code",
   "execution_count": null,
   "metadata": {},
   "outputs": [],
   "source": [
    "import matplotlib\n",
    "\n",
    "plt.figure()\n",
    "## use the default color cycle\n",
    "plt.plot(x, y, label=\"Default 1\")\n",
    "plt.plot(x, y-x, label=\"Default 2\") \n",
    "## you can also grab colors you like from the color cycle\n",
    "prop_cycle = plt.rcParams['axes.prop_cycle']\n",
    "cycle_colors = prop_cycle.by_key()['color']\n",
    "plt.plot(x, y+x, c=cycle_colors[4], label=\"Default 4\")\n",
    "# you can also specify any HTML color name (https://www.w3schools.com/colors/colors_names.asp)\n",
    "plt.plot(x, y - 5, c=\"LightSeaGreen\", label=\"HTML Color\")\n",
    "# you can grab values from colormaps\n",
    "inferno_cmap = matplotlib.cm.get_cmap(\"inferno\")\n",
    "inferno_color = inferno_cmap(0.2) # any value between 0 and 1\n",
    "plt.plot(x, 22 - 0.8 * y, c=inferno_color, label=\"Colormap Color\")\n",
    "# you can also specify colors using the Hex color code\n",
    "plt.plot(x, 20 - y, c=\"#ED55A1\", label=\"Hex Color\")\n",
    "\n",
    "plt.legend(loc=\"lower right\")\n",
    "plt.xlim(0.9, 4.1)\n",
    "plt.ylim(-5, 22)"
   ]
  },
  {
   "cell_type": "markdown",
   "metadata": {},
   "source": [
    "Direct labeling is possible but is a bit clumsy. I prefer to use `annotate` with the `xytest` and `textcoords` keywords to specify an offset in units of points (very matplotlib specific unit). "
   ]
  },
  {
   "cell_type": "code",
   "execution_count": null,
   "metadata": {},
   "outputs": [],
   "source": [
    "fig = plt.figure(figsize=(6,3.5))\n",
    "## use the default color cycle\n",
    "plt.plot(x, y)\n",
    "plt.annotate(\"Default 1\", (x[-1], y[-1]), xytext=(10, -2), textcoords=\"offset points\", fontsize=12)\n",
    "plt.plot(x, y-x) \n",
    "plt.annotate(\"Default 2\", (x[-1], (y-x)[-1]), xytext=(10, 0), textcoords=\"offset points\", fontsize=12)\n",
    "## you can also grab colors you like from the color cycle\n",
    "prop_cycle = plt.rcParams['axes.prop_cycle']\n",
    "cycle_colors = prop_cycle.by_key()['color']\n",
    "plt.plot(x, y+x, c=cycle_colors[4])\n",
    "plt.annotate(\"Default 4\", (x[-1], (y+x)[-1]), xytext=(10, -2), textcoords=\"offset points\", fontsize=12)\n",
    "# you can also specify any HTML color name (https://www.w3schools.com/colors/colors_names.asp)\n",
    "plt.plot(x, y - 5, c=\"LightSeaGreen\")\n",
    "plt.annotate(\"HTML Color\", (x[-1], (y - 5)[-1]), xytext=(10, -3), textcoords=\"offset points\", fontsize=12)\n",
    "# you can grab values from colormaps\n",
    "inferno_cmap = matplotlib.cm.get_cmap(\"inferno\")\n",
    "inferno_color = inferno_cmap(0.2) # any value between 0 and 1\n",
    "plt.plot(x, 22 - 0.8 * y, c=inferno_color)\n",
    "plt.annotate(\"Colormap Value\", (x[-1], (22 - 0.8 * y)[-1]), xytext=(10, -2), textcoords=\"offset points\", fontsize=12)\n",
    "# you can also specify colors using the Hex color code\n",
    "plt.plot(x, 20 - y, c=\"#ED55A1\")\n",
    "plt.annotate(\"Hex Color\", (x[-1], (20 - y)[-1]), xytext=(10, -2), textcoords=\"offset points\", fontsize=12)\n",
    "\n",
    "plt.xlim(0.9, 5.5)\n",
    "plt.ylim(-5, 22)"
   ]
  },
  {
   "cell_type": "markdown",
   "metadata": {},
   "source": [
    "### Saving Plots\n",
    "\n",
    "Generally I only save plots in two different formats: PDF or PNG/JPEG. PDF is a vectorized format, where all the text and lines and points are saved to exact precision. This means you can keep zooming in and it will not look pixelated. PNG/JPEG is a rasterized format, meaning it saves a 2D image at some predefined resolution per pixel. \n",
    "\n",
    "Vectorized format generally looks nicer, but can make the file huge (if you have millions of datapoints, each individual data point is saved separately) and is not supported in all applications. Rasterized images are generally easier to use, but have a limiting resolution. "
   ]
  },
  {
   "cell_type": "code",
   "execution_count": null,
   "metadata": {},
   "outputs": [],
   "source": [
    "fig.savefig(\"example.pdf\")\n",
    "fig.savefig(\"example.png\", dpi=300)"
   ]
  },
  {
   "cell_type": "markdown",
   "metadata": {},
   "source": [
    "\n",
    "### General tips:\n",
    "\n",
    "- **Apply principles of good design.** This means using color palettes with lots of contrast, making your fonts large and easy-to-read, and making sure your plots are colorblind friendly. (There are several great colorblindness simulators out there, for example [this one](https://www.color-blindness.com/coblis-color-blindness-simulator/).) It's also good to differentiate plot elements in more than one way (ex: one line is black and dashed, another is red and solid). (See our slides for more discussion)\\\n",
    "- **Use declared `Figure` and `Axes` objects** The `plt` interface is very convienient, but, especially when creating multiple panel plots, use the `Figure` and `Axes` objects to explicitly declare which plot you are plotting on. The array of axes (`Figure.axes`) can also be used for iteration with other lists/arrays.\n",
    "- **Plotting with Jupyter notebooks is useful for tweaks** I like to use Jupyter notebooks for plotting, since I can run a single cell to tweak parameters of a plot quickly. \n",
    "\n",
    "## Matplotlib Actvitiy\n",
    "\n",
    "Below I downloaded Google trends on a few different popular search terms and did a quick plot. Check the plot to see if it is colorblind-friendly, change any colors as needed (or as desired), and make the plot more interesting!\n",
    "\n",
    "### Product:\n",
    "- Paste your plot in the Canvas discussion thread to share with others!\n",
    "\n",
    "### Instructions\n",
    "\n",
    "  * Look through the code below\n",
    "  * Save the figure, and use a [colorblindness simulator](https://www.color-blindness.com/coblis-color-blindness-simulator/) to assess if it is colorblind friendly\n",
    "  * Change any colors to make it more accessible, and/or to be in more in-line with your design preferences. \n",
    "  * Make the plot more interesting/more foucsed/more well-designed.\n",
    "  * Share it on the Canvas discussion thread"
   ]
  },
  {
   "cell_type": "code",
   "execution_count": null,
   "metadata": {},
   "outputs": [],
   "source": [
    "import pandas as pd\n",
    "import astropy.time\n",
    "df = pd.read_csv(\"google_trends.csv\")\n",
    "\n",
    "# turn YYYY-MM into a fractional year\n",
    "decimal_years = []\n",
    "for year_month in df['Month']:\n",
    "    year, month = year_month.split(\"-\")\n",
    "    decimal_years.append(int(year) + (int(month)-1)/12)\n",
    "# add it as a column\n",
    "df['decimalyear'] = pd.Series(decimal_years)\n",
    "print(df)\n",
    "\n",
    "# plotting code\n",
    "fig, ax = plt.subplots(1, 1)\n",
    "ax.plot(df['decimalyear'], df['Cupcake'], 'b-', label='Cupcake')\n",
    "ax.plot(df['decimalyear'], df['Katy Perry'], 'r-', label='Katy Perry')\n",
    "ax.plot(df['decimalyear'], df['How to cook'], 'g-', label='How to cook')\n",
    "ax.plot(df['decimalyear'], df['Trees'], 'y-', label='Trees')\n",
    "ax.set_ylabel(\"Relative Popularity\")\n",
    "ax.set_xlabel(\"Time (year)\")\n",
    "ax.set_title(\"Popularity of Search Term on Google (Worldwide)\")\n",
    "ax.legend(loc='upper right')\n"
   ]
  },
  {
   "cell_type": "markdown",
   "metadata": {},
   "source": [
    "Notice that the last line of this snippet returns the `Figure` object used to make the plot above. This is good practice-- it lets your users more easily customize figures, just as you're about to do!\n",
    "\n",
    "Tasks:\n",
    "- Change the x-axis limits of the top right panel to 2011-2015.\n",
    "- Add a black star at (0, 0) in the leftmost panel.\n",
    "- Change the dpi (dots per inch, a measure of resolution) of the Figure to 250.\n",
    "- Save the figure to your Desktop using [`plt.savefig()`](https://matplotlib.org/3.2.1/api/_as_gen/matplotlib.pyplot.savefig.html). "
   ]
  },
  {
   "cell_type": "markdown",
   "metadata": {},
   "source": [
    "### (Optional) Activity #2\n",
    "\n",
    "Use `gridspec` (Google it!) to create a basic [corner plot](https://corner.readthedocs.io/en/latest/pages/quickstart.html). Plot the samples generated in the code snippet below. Your corner plot must:\n",
    "- display histograms along the diagonal\n",
    "- display a contour plot along the non-diagonal\n",
    "- handle 2-dimensional arrays\n",
    "\n",
    "Your corner plot may, if you have time/interest:\n",
    "- be super pretty\n",
    "- handle N-dimensional arrays"
   ]
  },
  {
   "cell_type": "code",
   "execution_count": null,
   "metadata": {},
   "outputs": [],
   "source": [
    "\n",
    "import numpy as np\n",
    "\n",
    "ndim, nsamples = 2, 10000\n",
    "samples = np.random.randn(ndim * nsamples)\n",
    "\n",
    "print(samples.shape)"
   ]
  },
  {
   "cell_type": "markdown",
   "metadata": {},
   "source": [
    "## (Optional) Activity #3\n",
    "\n",
    "Read about [interactive plots](https://matplotlib.org/3.2.1/users/interactive.html) in matplotlib and/or [making animations](https://matplotlib.org/3.2.1/api/animation_api.html) in matplotlib. Make some cool figures. :)\n"
   ]
  },
  {
   "cell_type": "code",
   "execution_count": null,
   "metadata": {},
   "outputs": [],
   "source": []
  },
  {
   "cell_type": "markdown",
   "metadata": {},
   "source": [
    "# Astropy\n",
    "\n",
    "`astropy` is full of useful stuff for astronomers (perhaps unsurprisingly). The main point I want to drive home with this tutorial is **DON'T REINVENT THE WHEEL**. Before you write a new function, especially one that performs a common astronomical task, check whether an `astropy` developer wrote it for you. `astropy` functions are well-tested, especially for complicated calculations like coordinate transformations or unit conversions. \n",
    "\n",
    "This tutorial is far from exhaustive. Check out a more complete list of `astropy` tutorials [here](https://learn.astropy.org/).\n",
    "\n",
    "Below are some examples of a few particularly useful `astropy` features. "
   ]
  },
  {
   "cell_type": "markdown",
   "metadata": {},
   "source": [
    "### Units\n",
    "\n",
    "One of my favorite things about `astropy` is its ability to handle units and fundamental constants. Let's calculate the Earth's orbital velocity using the equation \n",
    "\n",
    "$v = \\sqrt{GM_\\odot/r}$."
   ]
  },
  {
   "cell_type": "code",
   "execution_count": null,
   "metadata": {},
   "outputs": [],
   "source": [
    "import numpy as np\n",
    "from astropy import constants as cst, units as u \n",
    "\n",
    "v_Earth = np.sqrt(\n",
    "    cst.G * \n",
    "    cst.M_sun / \n",
    "    (1 * u.au)\n",
    ")\n",
    "\n",
    "print(v_Earth)"
   ]
  },
  {
   "cell_type": "markdown",
   "metadata": {},
   "source": [
    "Well those units aren't very helpful. Let's convert them to more physical units:"
   ]
  },
  {
   "cell_type": "code",
   "execution_count": null,
   "metadata": {},
   "outputs": [],
   "source": [
    "v_Earth_cgs = v_Earth.cgs\n",
    "v_Earth_km_s = v_Earth.to(u.km/u.s)\n",
    "\n",
    "print(\"Earth's orbital velocity: {0:.2e}.\".format(v_Earth_cgs))\n",
    "print(\"Another way to put it: {0:.1f}.\".format(v_Earth_km_s))"
   ]
  },
  {
   "cell_type": "markdown",
   "metadata": {},
   "source": [
    "The `equivalencies` keyword in the `.to()` function is also very useful to convert between things that have a 1:1 mapping, but don't share the same units. Some that I use are: wavelength to frequency, parallax to distance, $F_\\nu$ to $F_\\lambda$. \n",
    "\n",
    "There's a list of supported ones here: https://docs.astropy.org/en/stable/units/equivalencies.html#unit-equivalencies"
   ]
  },
  {
   "cell_type": "code",
   "execution_count": null,
   "metadata": {},
   "outputs": [],
   "source": [
    "# convert 10 microns to Hz\n",
    "(10 * u.um).to(u.Hz, equivalencies=u.spectral())  "
   ]
  },
  {
   "cell_type": "markdown",
   "metadata": {},
   "source": [
    "### Time\n",
    "\n",
    "Next, let's do an example with the bane of every astronomer's existence: time."
   ]
  },
  {
   "cell_type": "code",
   "execution_count": null,
   "metadata": {},
   "outputs": [],
   "source": [
    "from astropy.time import Time \n",
    "\n",
    "some_date = Time('1995-02-03', format='iso')\n",
    "\n",
    "print('As a fractional year: {0}.'.format(some_date.decimalyear))\n",
    "print('In JD: {0}.'.format(some_date.jd))\n",
    "print('In MJD: {0}.'.format(some_date.mjd))"
   ]
  },
  {
   "cell_type": "markdown",
   "metadata": {},
   "source": [
    "### Coordinates\n",
    "\n",
    "Next, a quick example with the second-worst bane of every astronomer's existence: coordinate systems. `astropy` has a great `coordinates` module that enables easy translation between coordinate systems:"
   ]
  },
  {
   "cell_type": "code",
   "execution_count": null,
   "metadata": {},
   "outputs": [],
   "source": [
    "from astropy.coordinates import SkyCoord\n",
    "from astropy import units as u\n",
    "\n",
    "# input coordinates as hour angle and degree\n",
    "my_coordinate = SkyCoord('00:42.5 +41:12', unit=(u.hourangle, u.deg))\n",
    "\n",
    "# access right ascension\n",
    "print(my_coordinate)\n",
    "\n",
    "# convert to galactocentric coordinates\n",
    "print(my_coordinate.galactic)\n",
    "\n",
    "# get a second coordinate and measure distance\n",
    "second_coordinate = SkyCoord('01:01.2 +42:45', unit=(u.hourangle, u.deg))\n",
    "\n",
    "distance = my_coordinate.separation(second_coordinate)\n",
    "print(\"Separation between the coordinates\", distance.to(u.deg))"
   ]
  },
  {
   "cell_type": "markdown",
   "metadata": {},
   "source": [
    "### FITS files\n",
    "\n",
    "As a final example, we will use astropy to read a .fits file and access its contents. \n",
    "\n",
    "FITS files are often used in astronomy to store image data and relevant keywords. As an example, suppose I want to store a set of data containing images of the same object taken at 450, 600, and 700 nm wavelengths. fits files allow me to store all of these images in one file (each one is stored in a different \"extension\"), along with relevant keywords (e.g. the name of the object, time of observation, etc) in the fits file \"header.\" Feel free to Google around for more information about fits files!\n",
    "\n",
    "In Python, when using files (or other system I/O), it is good practice to access them with the `with` command. The `with` command automatically handles opening and closing files, so you don't have to worry about such things. It is good to close files after youuse them so it doesn't take up memory, or mess with other programs also trying to access those files."
   ]
  },
  {
   "cell_type": "code",
   "execution_count": null,
   "metadata": {},
   "outputs": [],
   "source": [
    "from astropy.io import fits\n",
    "\n",
    "# open a test fits file\n",
    "fits_image_filename = fits.util.get_testdata_filepath('test0.fits')\n",
    "with fits.open(fits_image_filename) as hdul:\n",
    "\n",
    "    # print a summary of the file contents\n",
    "    print('\\n\\nINFO ABOUT FITS FILE:')\n",
    "    print('---------------------')\n",
    "    hdul.info()\n",
    "\n",
    "    # print the contents of the .fits header\n",
    "    print('\\n\\nFITS HEADER:')\n",
    "    print('------------')\n",
    "    print(repr(hdul[0].header))\n",
    "\n",
    "    # closes the file automatically"
   ]
  },
  {
   "cell_type": "markdown",
   "metadata": {},
   "source": [
    "## Astropy Activities\n",
    "\n",
    "Work on these independently, but ask a classmate or the instructor if you get stuck. \n",
    "\n",
    "### Activity\n",
    "\n",
    "Here is how we can generate a blackbody spectrum in `astropy`. Assuming the emitting area on the sky is $\\pi r^2$ where $r = 0.05~\\textrm{arcsec}$, plot the blackbody spectrum in Janskys.\n",
    "\n",
    "If you have done that, also plot it with the following units:\n",
    "  * $F_\\lambda$ space in units of $W/m^2/\\mu m$. \n",
    "  * $\\textrm{photons}/s/m^2/\\mu m$\n"
   ]
  },
  {
   "cell_type": "code",
   "execution_count": null,
   "metadata": {},
   "outputs": [],
   "source": [
    "from astropy.modeling.models import BlackBody\n",
    "\n",
    "wavelengths = np.linspace(1, 10, 100) * u.um # 1 to 10 microns\n",
    "bb_temp = 1200 * u.K\n",
    "bb = BlackBody(temperature=bb_temp)\n",
    "emitting_area = np.pi * (0.05 * u.arcsec)**2 # solid angle in the sky\n",
    "\n",
    "bb_intensity = bb(wavelengths)\n",
    "# what are the units of bb_intensity\n",
    "plt.figure()\n",
    "plt.plot(wavelengths, bb_intensity, 'k-')\n",
    "plt.xlabel(\"Wavelengths ({0})\".format(wavelengths.unit))\n",
    "plt.ylabel(\"Brightness (some units)\")\n",
    "\n"
   ]
  },
  {
   "cell_type": "code",
   "execution_count": null,
   "metadata": {},
   "outputs": [],
   "source": []
  }
 ],
 "metadata": {
  "file_extension": ".py",
  "kernelspec": {
   "display_name": "Python 3.10.4 ('astron441')",
   "language": "python",
   "name": "python3"
  },
  "language_info": {
   "codemirror_mode": {
    "name": "ipython",
    "version": 3
   },
   "file_extension": ".py",
   "mimetype": "text/x-python",
   "name": "python",
   "nbconvert_exporter": "python",
   "pygments_lexer": "ipython3",
   "version": "3.10.4"
  },
  "mimetype": "text/x-python",
  "name": "python",
  "npconvert_exporter": "python",
  "pygments_lexer": "ipython3",
  "version": 3,
  "vscode": {
   "interpreter": {
    "hash": "ea8185e319176ef1016b04300e53465b99f8a6fd27059293c86fff9908574184"
   }
  }
 },
 "nbformat": 4,
 "nbformat_minor": 2
}
