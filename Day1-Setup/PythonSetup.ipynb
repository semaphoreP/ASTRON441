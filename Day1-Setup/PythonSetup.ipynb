{
 "cells": [
  {
   "cell_type": "markdown",
   "metadata": {},
   "source": [
    "# Configuring Python\n",
    "\n",
    "This notebook will discuss the following points\n",
    "\n",
    " * Using `conda` to manage python installations\n",
    " * Understanding where python is installed in diffeent scenarios\n",
    "\n",
    "## Motivation\n",
    "\n",
    " * You want to have a version of python that can run some old code from years ago, but you don't want always use a old version of python\n",
    " * You need to use packages that have conflicting python package requirements (e.g., one requires an old version of Astropy, and one requires a new version) \n",
    "\n",
    "Having a way to manage different python installations on the same computer will likely save you time im the long run!\n",
    "\n",
    "## Different Flavors of Python Installs\n",
    "\n",
    "\n"
   ]
  }
 ],
 "metadata": {
  "language_info": {
   "name": "python"
  },
  "orig_nbformat": 4
 },
 "nbformat": 4,
 "nbformat_minor": 2
}
