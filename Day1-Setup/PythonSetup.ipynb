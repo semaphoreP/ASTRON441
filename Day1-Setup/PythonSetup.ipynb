{
 "cells": [
  {
   "cell_type": "markdown",
   "metadata": {},
   "source": [
    "# Setup\n",
    "\n",
    "This notebook will discuss the following points\n",
    "\n",
    " * Understanding where python is installed for your notebook\n",
    " * Demonstrating some useful features of notebooks\n",
    "\n",
    "# Activty: Python Configuration\n",
    "\n",
    "The second goal of this notebook is to confirm you have setup an \"ASTRON441\" conda environment and launched this Jupyter notebook from that environent. \n",
    "\n",
    "Confirm you have done that by showing that a python library lives at the filepath within the ASTRON441 conda environment below. If you are having issues, ask Jason for help.\n"
   ]
  },
  {
   "cell_type": "code",
   "execution_count": 8,
   "metadata": {},
   "outputs": [],
   "source": [
    "## print out something here to show that this Jupyter notebook runs Python in the ASTRON441 conda environment"
   ]
  },
  {
   "cell_type": "markdown",
   "metadata": {},
   "source": [
    "# Using Markdown for Text\n",
    "\n",
    "Jupyter notebooks use the Markdown syntax to create formatted text. [This page](https://docs.github.com/en/get-started/writing-on-github/getting-started-with-writing-and-formatting-on-github/basic-writing-and-formatting-syntax) has some examples for what you can do with Markdown. \n",
    "\n",
    "Also, useful for astronomy, we can write equations: $$ y = mx + b $$\n",
    "\n",
    "## Activity:\n",
    "\n",
    "Find something you didn't know you could do in Markdown and try it in the cell below. For example, look through the page linked above and find something you haven't tried.\n"
   ]
  },
  {
   "cell_type": "markdown",
   "metadata": {},
   "source": []
  },
  {
   "cell_type": "markdown",
   "metadata": {},
   "source": [
    "# IPython Features\n",
    "\n",
    "Jupyter notebooks derive from the IPython environment. The following features can also be used in an interactive `ipython` prompt. Just call `ipython` from your terminal.\n",
    "\n",
    "## Run Terminal Commands\n",
    "\n",
    "We can run any command you'd run in a terminal (outside of a Python session) here as well. Here are some examples below."
   ]
  },
  {
   "cell_type": "code",
   "execution_count": 1,
   "metadata": {},
   "outputs": [
    {
     "name": "stdout",
     "output_type": "stream",
     "text": [
      "\u001b[33mWARNING: Ignoring invalid distribution -ocutils (/home/jwang/miniconda3/envs/codeastro/lib/python3.9/site-packages)\u001b[0m\n",
      "Package                       Version             Location\n",
      "----------------------------- ------------------- --------------------------------------------\n",
      "alabaster                     0.7.12\n",
      "argon2-cffi                   20.1.0\n",
      "astropy                       4.2.1\n",
      "astroquery                    0.4.6\n",
      "async-generator               1.10\n",
      "attrs                         21.2.0\n",
      "autopimms                     1.0.1\n",
      "Babel                         2.9.1\n",
      "backcall                      0.2.0\n",
      "beautifulsoup4                4.9.3\n",
      "bleach                        3.3.0\n",
      "certifi                       2021.5.30\n",
      "cffi                          1.14.5\n",
      "chardet                       4.0.0\n",
      "corner                        2.2.1\n",
      "cryptography                  37.0.2\n",
      "cycler                        0.10.0\n",
      "Cython                        0.29.23\n",
      "decorator                     5.0.9\n",
      "defusedxml                    0.7.1\n",
      "deprecation                   2.1.0\n",
      "dill                          0.3.3\n",
      "docutils                      0.16\n",
      "emcee                         3.0.2\n",
      "entrypoints                   0.3\n",
      "h5py                          3.2.1\n",
      "html5lib                      1.1\n",
      "idna                          2.10\n",
      "imagesize                     1.2.0\n",
      "importlib-metadata            3.10.0\n",
      "iniconfig                     1.1.1\n",
      "ipykernel                     5.3.4\n",
      "ipython                       7.22.0\n",
      "ipython-genutils              0.2.0\n",
      "ipywidgets                    7.6.3\n",
      "jedi                          0.17.2\n",
      "jeepney                       0.8.0\n",
      "Jinja2                        3.0.0\n",
      "jsonschema                    3.2.0\n",
      "jupyter                       1.0.0\n",
      "jupyter-client                6.1.12\n",
      "jupyter-console               6.4.0\n",
      "jupyter-core                  4.7.1\n",
      "jupyterlab-pygments           0.1.2\n",
      "jupyterlab-widgets            1.0.0\n",
      "keyring                       23.6.0\n",
      "kiwisolver                    1.3.1\n",
      "lxml                          4.6.3\n",
      "MarkupSafe                    2.0.1\n",
      "matplotlib                    3.4.2\n",
      "MechanicalSoup                1.1.0\n",
      "mistune                       0.8.4\n",
      "mkl-fft                       1.3.0\n",
      "mkl-random                    1.2.1\n",
      "mkl-service                   2.3.0\n",
      "nbclient                      0.5.3\n",
      "nbconvert                     6.0.7\n",
      "nbformat                      5.1.3\n",
      "nbsphinx                      0.8.6\n",
      "nest-asyncio                  1.5.1\n",
      "notebook                      6.4.0\n",
      "numpy                         1.20.2\n",
      "orbitize                      2.0.0               /mnt/c/Users/Jason/Documents/pylibs/orbitize\n",
      "packaging                     20.9\n",
      "pandas                        1.2.4\n",
      "pandocfilters                 1.4.3\n",
      "parso                         0.7.0\n",
      "pexpect                       4.8.0\n",
      "pickleshare                   0.7.5\n",
      "Pillow                        8.2.0\n",
      "pip                           21.1.1\n",
      "pluggy                        0.13.1\n",
      "prometheus-client             0.10.1\n",
      "prompt-toolkit                3.0.17\n",
      "ptemcee                       1.0.0\n",
      "ptyprocess                    0.7.0\n",
      "py                            1.10.0\n",
      "pycparser                     2.20\n",
      "pyerfa                        2.0.0\n",
      "Pygments                      2.9.0\n",
      "pyklip                        2.6                 /mnt/c/Users/Jason/Documents/pylibs/pyklip\n",
      "pyparsing                     2.4.7\n",
      "PyQt6                         6.1.1\n",
      "PyQt6-Qt6                     6.1.1\n",
      "PyQt6-sip                     13.1.0\n",
      "pyrsistent                    0.17.3\n",
      "pytest                        6.2.4\n",
      "python-dateutil               2.8.1\n",
      "pytz                          2021.1\n",
      "pyvo                          1.3\n",
      "pyzmq                         20.0.0\n",
      "qtconsole                     5.0.3\n",
      "QtPy                          1.9.0\n",
      "radvel                        1.4.6\n",
      "rebound                       3.19.3\n",
      "requests                      2.25.1\n",
      "scipy                         1.6.3\n",
      "SecretStorage                 3.3.2\n",
      "Send2Trash                    1.5.0\n",
      "setuptools                    52.0.0.post20210125\n",
      "sip                           4.19.13\n",
      "six                           1.15.0\n",
      "snowballstemmer               2.1.0\n",
      "soupsieve                     2.2.1\n",
      "Sphinx                        3.5.3\n",
      "sphinxcontrib-applehelp       1.0.2\n",
      "sphinxcontrib-devhelp         1.0.2\n",
      "sphinxcontrib-htmlhelp        2.0.0\n",
      "sphinxcontrib-jsmath          1.0.1\n",
      "sphinxcontrib-qthelp          1.0.3\n",
      "sphinxcontrib-serializinghtml 1.1.5\n",
      "terminado                     0.9.4\n",
      "testpath                      0.4.4\n",
      "toml                          0.10.2\n",
      "tornado                       6.1\n",
      "traitlets                     5.0.5\n",
      "urllib3                       1.26.5\n",
      "wcwidth                       0.2.5\n",
      "webencodings                  0.5.1\n",
      "wheel                         0.36.2\n",
      "widgetsnbextension            3.5.1\n",
      "zipp                          3.4.1\n",
      "\u001b[33mWARNING: Ignoring invalid distribution -ocutils (/home/jwang/miniconda3/envs/codeastro/lib/python3.9/site-packages)\u001b[0m\n",
      "\u001b[33mWARNING: Ignoring invalid distribution -ocutils (/home/jwang/miniconda3/envs/codeastro/lib/python3.9/site-packages)\u001b[0m\n",
      "\u001b[33mWARNING: Ignoring invalid distribution -ocutils (/home/jwang/miniconda3/envs/codeastro/lib/python3.9/site-packages)\u001b[0m\n"
     ]
    }
   ],
   "source": [
    "!pip list"
   ]
  },
  {
   "cell_type": "code",
   "execution_count": 2,
   "metadata": {},
   "outputs": [
    {
     "name": "stdout",
     "output_type": "stream",
     "text": [
      "/mnt/c/Users/Jason/Documents/pylibs/ASTRON441/Day1-Setup\n"
     ]
    }
   ],
   "source": [
    "!pwd"
   ]
  },
  {
   "cell_type": "markdown",
   "metadata": {},
   "source": [
    "## Example function documentation\n",
    "\n",
    "This is a convenient tool to look up function documentation."
   ]
  },
  {
   "cell_type": "code",
   "execution_count": 3,
   "metadata": {},
   "outputs": [
    {
     "name": "stdout",
     "output_type": "stream",
     "text": [
      "\u001b[0;31mSignature:\u001b[0m \u001b[0mmath\u001b[0m\u001b[0;34m.\u001b[0m\u001b[0msin\u001b[0m\u001b[0;34m(\u001b[0m\u001b[0mx\u001b[0m\u001b[0;34m,\u001b[0m \u001b[0;34m/\u001b[0m\u001b[0;34m)\u001b[0m\u001b[0;34m\u001b[0m\u001b[0;34m\u001b[0m\u001b[0m\n",
      "\u001b[0;31mDocstring:\u001b[0m Return the sine of x (measured in radians).\n",
      "\u001b[0;31mType:\u001b[0m      builtin_function_or_method\n"
     ]
    }
   ],
   "source": [
    "import math\n",
    "math.sin?"
   ]
  },
  {
   "cell_type": "code",
   "execution_count": 5,
   "metadata": {},
   "outputs": [
    {
     "name": "stdout",
     "output_type": "stream",
     "text": [
      "\u001b[0;31mSignature:\u001b[0m \u001b[0mmath\u001b[0m\u001b[0;34m.\u001b[0m\u001b[0misclose\u001b[0m\u001b[0;34m(\u001b[0m\u001b[0ma\u001b[0m\u001b[0;34m,\u001b[0m \u001b[0mb\u001b[0m\u001b[0;34m,\u001b[0m \u001b[0;34m*\u001b[0m\u001b[0;34m,\u001b[0m \u001b[0mrel_tol\u001b[0m\u001b[0;34m=\u001b[0m\u001b[0;36m1e-09\u001b[0m\u001b[0;34m,\u001b[0m \u001b[0mabs_tol\u001b[0m\u001b[0;34m=\u001b[0m\u001b[0;36m0.0\u001b[0m\u001b[0;34m)\u001b[0m\u001b[0;34m\u001b[0m\u001b[0;34m\u001b[0m\u001b[0m\n",
      "\u001b[0;31mDocstring:\u001b[0m\n",
      "Determine whether two floating point numbers are close in value.\n",
      "\n",
      "  rel_tol\n",
      "    maximum difference for being considered \"close\", relative to the\n",
      "    magnitude of the input values\n",
      "  abs_tol\n",
      "    maximum difference for being considered \"close\", regardless of the\n",
      "    magnitude of the input values\n",
      "\n",
      "Return True if a is close in value to b, and False otherwise.\n",
      "\n",
      "For the values to be considered close, the difference between them\n",
      "must be smaller than at least one of the tolerances.\n",
      "\n",
      "-inf, inf and NaN behave similarly to the IEEE 754 Standard.  That\n",
      "is, NaN is not close to anything, even itself.  inf and -inf are\n",
      "only close to themselves.\n",
      "\u001b[0;31mType:\u001b[0m      builtin_function_or_method\n"
     ]
    }
   ],
   "source": [
    "math.isclose?"
   ]
  },
  {
   "cell_type": "code",
   "execution_count": 7,
   "metadata": {},
   "outputs": [
    {
     "name": "stdout",
     "output_type": "stream",
     "text": [
      "\u001b[0;31mType:\u001b[0m        list\n",
      "\u001b[0;31mString form:\u001b[0m [1, 2, 3]\n",
      "\u001b[0;31mLength:\u001b[0m      3\n",
      "\u001b[0;31mDocstring:\u001b[0m  \n",
      "Built-in mutable sequence.\n",
      "\n",
      "If no argument is given, the constructor creates a new empty list.\n",
      "The argument must be an iterable if specified.\n"
     ]
    }
   ],
   "source": [
    "## This is also useful to inspect variables in more detail\n",
    "## We will discuss types in Python more next class\n",
    "x = [1, 2, 3]\n",
    "x?"
   ]
  },
  {
   "cell_type": "markdown",
   "metadata": {},
   "source": [
    "## More features\n",
    "\n",
    "There are a lot more IPython features. There are many that I don't use, but some could be useful to you. [This page](https://arogozhnikov.github.io/2016/09/10/jupyter-features.html) offers a good list. Some other things that we will go over in this class later are the plotting and timing features."
   ]
  },
  {
   "cell_type": "markdown",
   "metadata": {},
   "source": []
  }
 ],
 "metadata": {
  "kernelspec": {
   "display_name": "Python 3.9.5 ('codeastro')",
   "language": "python",
   "name": "python3"
  },
  "language_info": {
   "codemirror_mode": {
    "name": "ipython",
    "version": 3
   },
   "file_extension": ".py",
   "mimetype": "text/x-python",
   "name": "python",
   "nbconvert_exporter": "python",
   "pygments_lexer": "ipython3",
   "version": "3.9.5"
  },
  "orig_nbformat": 4,
  "vscode": {
   "interpreter": {
    "hash": "70da8eaca2f829bebd9ae4bfee73e2015b5a57abadfaaa95753587bc60143f91"
   }
  }
 },
 "nbformat": 4,
 "nbformat_minor": 2
}
